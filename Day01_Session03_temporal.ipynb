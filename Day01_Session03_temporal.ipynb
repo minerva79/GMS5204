{
  "nbformat": 4,
  "nbformat_minor": 0,
  "metadata": {
    "colab": {
      "provenance": [],
      "authorship_tag": "ABX9TyOQ5e+EnEAtrtdtMgFLD93o",
      "include_colab_link": true
    },
    "kernelspec": {
      "name": "ir",
      "display_name": "R"
    },
    "language_info": {
      "name": "R"
    }
  },
  "cells": [
    {
      "cell_type": "markdown",
      "metadata": {
        "id": "view-in-github",
        "colab_type": "text"
      },
      "source": [
        "<a href=\"https://colab.research.google.com/github/minerva79/GMS5204/blob/main/Day01_Session03_temporal.ipynb\" target=\"_parent\"><img src=\"https://colab.research.google.com/assets/colab-badge.svg\" alt=\"Open In Colab\"/></a>"
      ]
    },
    {
      "cell_type": "markdown",
      "source": [
        "# Temporal Data\n",
        "\n",
        "Temporal data refers to observations collected over time - commonly in healthcare, economics, environmental monitoring or operational research. What distinguishes temporal data from other forms is the **time-dependence** between observations.\n",
        "\n",
        "For example, a patient's heart rate recorded at 10:00 a.m. is not independent of their reading at 10.15 a.m. This violates the classical assumption of independence in many statistical models, and necessitates time-aware techniques.\n",
        "\n",
        "Understanding and handling temporal data requires us to think in terms of **structure over time**, particularly:\n",
        "\n",
        "- **Lag**: How past values influence current outcomes.\n",
        "\n",
        "In this tutorial, we will walk through:\n",
        "\n",
        "1. Loading and handling of temporal data\n",
        "2. Identifying lags and periodicity\n"
      ],
      "metadata": {
        "id": "P3LAHDBzTMaL"
      }
    },
    {
      "cell_type": "markdown",
      "source": [
        "## 1. Loading a Sample Dataset\n",
        "\n",
        "In this example, we will download daily climate data from the [Ogimet](https://ogimet.com/index.phtml.en) server through `climate` package in R. Ogimet includes stations globally ([station list](https://opendata.dwd.de/climate_environment/CDC/help/stations_list_CLIMAT_data.txt)).\n",
        "\n",
        "For Singapore, two stations are available:\n",
        "\n",
        "- **48694**: Singapore/ Paya Lebar (1.37, 103.92)\n",
        "- **48698**: Singapore Changi Airport (1.37, 103.98)\n",
        "\n",
        "We will retrieve data from **Changi Airport (station 48698)** for the last five years."
      ],
      "metadata": {
        "id": "OkhjKSINTb3g"
      }
    },
    {
      "cell_type": "code",
      "source": [
        "install.packages(\"GGally\")"
      ],
      "metadata": {
        "id": "1nCkmrmmVAVC"
      },
      "execution_count": null,
      "outputs": []
    },
    {
      "cell_type": "code",
      "execution_count": null,
      "metadata": {
        "id": "vasPfvPwTJSK"
      },
      "outputs": [],
      "source": [
        "#library(climate)\n",
        "#changi <- meteo_ogimet(date = c(as.Date(\"2020-01-01\"), as.Date(\"2025-01-01\")),\n",
        "#                       station = 48698, interval=\"daily\")\n",
        "\n",
        "### To avoid long loading times and potential server issues, we will use pre-downloaded data saved as `changi.csv`.\n",
        "\n",
        "library(tidyverse)\n",
        "\n",
        "changi <- read_csv(\"https://raw.githubusercontent.com/minerva79/GMS5204/refs/heads/main/changi.csv\")\n",
        "\n",
        "head(changi)"
      ]
    },
    {
      "cell_type": "markdown",
      "source": [
        "Load ED data\n",
        "\n",
        "ED data in this case is the synthetic temporal information based on the PAROS dataset.\n",
        "\n",
        "- Ong et al. (2011) Pan-Asian Resuscitation Outcome Study (PAROS). Academic Emergency Medicine. https://www.scri.edu.sg/paros/about-paros/\n",
        "\n"
      ],
      "metadata": {
        "id": "sHCbIfWuUK84"
      }
    },
    {
      "cell_type": "code",
      "source": [
        "# loading ED visit data\n",
        "\n",
        "ed <- read_csv(\"https://raw.githubusercontent.com/minerva79/GMS5204/refs/heads/main/Synthetic_Sampled_Temporal_Data.csv\")\n",
        "\n",
        "temporal_df <- changi %>% left_join(ed, by=c(\"Date\"=\"date\"))\n",
        "\n",
        "head(temporal_df %>% select(Date, TemperatureCAvg, synthetic_count))"
      ],
      "metadata": {
        "id": "FzhRqLwGUMCq"
      },
      "execution_count": null,
      "outputs": []
    },
    {
      "cell_type": "code",
      "source": [
        "# Visualising temperature and ED visits\n",
        "\n",
        "plotdat <- temporal_df %>%\n",
        "  select(Date, TemperatureCAvg, synthetic_count) %>%\n",
        "  group_by(Date) %>%\n",
        "  gather(variable, value, -Date)\n",
        "\n",
        "ggplot(plotdat, aes(x = Date, y = value)) +\n",
        "  geom_line(colour = \"steelblue\") +\n",
        "  geom_smooth(method = \"loess\", se=FALSE, color = \"darkred\") +\n",
        "  facet_wrap(~variable, nrow=2, scales=\"free_y\") +\n",
        "  labs(title = \"\", x = \"Date\", y = \"\") +\n",
        "  theme_minimal()"
      ],
      "metadata": {
        "id": "ThXct695UzOa"
      },
      "execution_count": null,
      "outputs": []
    },
    {
      "cell_type": "markdown",
      "source": [
        "## 2. Exploring Lag Effects\n",
        "\n",
        "Lag refers to how previous observations influence current outcomes. In time-series modeling, it's common to create lagged variables to account for delayed effects—for example, yesterday’s weather influencing today’s ED visits.\n",
        "\n",
        "We will now create lagged versions of both the ED visits and temperature variables."
      ],
      "metadata": {
        "id": "wA9GBq_aU2Ga"
      }
    },
    {
      "cell_type": "code",
      "source": [
        "temporal_df <- temporal_df %>%\n",
        "  arrange(Date) %>%\n",
        "  mutate(\n",
        "    lag1_temp = lag(TemperatureCAvg, 1),\n",
        "    lag1_ed = lag(synthetic_count, 1),\n",
        "    lag7_temp = lag(TemperatureCAvg, 7),\n",
        "    lag7_ed = lag(synthetic_count, 7)\n",
        "  )\n",
        "\n",
        "head(temporal_df %>% select(Date, TemperatureCAvg, lag1_temp, synthetic_count, lag1_ed))"
      ],
      "metadata": {
        "id": "5kFNaVtPU4Yq"
      },
      "execution_count": null,
      "outputs": []
    },
    {
      "cell_type": "markdown",
      "source": [
        "Here we plot lagged temperature and lagged ED counts against the current ED count to access possible correlations."
      ],
      "metadata": {
        "id": "cEuYoDKlU9Et"
      }
    },
    {
      "cell_type": "code",
      "source": [
        "library(GGally)\n",
        "\n",
        "lag_plot_data <- temporal_df %>%\n",
        "  select(synthetic_count, lag1_temp, lag1_ed, lag7_temp, lag7_ed) %>%\n",
        "  drop_na()\n",
        "\n",
        "ggpairs(lag_plot_data,\n",
        "        upper = list(continuous = wrap(\"cor\", size = 3)),\n",
        "        title = \"Lagged Variable Correlations with ED Visits\")"
      ],
      "metadata": {
        "id": "JAUVaC6MU9kr"
      },
      "execution_count": null,
      "outputs": []
    },
    {
      "cell_type": "markdown",
      "source": [
        "Cross-correlation plots can be useful for determining at which lag the relationship between two series is strongest."
      ],
      "metadata": {
        "id": "Ox5-r1DzVeFy"
      }
    },
    {
      "cell_type": "code",
      "source": [
        "# Drop rows where either variable is NA before computing cross-correlation\n",
        "ccf_data <- temporal_df %>%\n",
        "  select(Date, TemperatureCAvg, synthetic_count) %>%\n",
        "  drop_na()\n",
        "\n",
        "ccf_result <- ccf(\n",
        "  x = ccf_data$TemperatureCAvg,\n",
        "  y = ccf_data$synthetic_count,\n",
        "  plot = FALSE,\n",
        "  lag.max = 30,\n",
        "  na.action = na.omit\n",
        ")\n",
        "\n",
        "# Filter for non-negative lags only\n",
        "pos_lags <- ccf_result$lag >= 0\n",
        "plot(\n",
        "  ccf_result$lag[pos_lags],\n",
        "  ccf_result$acf[pos_lags],\n",
        "  type = \"h\", lwd = 2,\n",
        "  xlab = \"Lag (days)\",\n",
        "  ylab = \"Cross-Correlation\",\n",
        "  main = \"CCF (0 to +30 days): Temperature vs ED Visits\"\n",
        ")\n",
        "abline(h = c(-1.96/sqrt(nrow(ccf_data)), 1.96/sqrt(nrow(ccf_data))), col = \"blue\", lty = \"dashed\")\n",
        "abline(h = 0, col = \"black\")"
      ],
      "metadata": {
        "id": "OuoHIcTbVh6i"
      },
      "execution_count": null,
      "outputs": []
    },
    {
      "cell_type": "markdown",
      "source": [
        "The cross-correlation function (CCF) between daily average temperature and synthetic ED visits revealed statistically significant positive correlations at lags between 10 and 25 days. This suggests that increases in temperature may be associated with higher ED utilization approximately 1 to 3 weeks later. These findings warrant further exploration using distributed lag models."
      ],
      "metadata": {
        "id": "4UcTwCT8Vmye"
      }
    }
  ]
}